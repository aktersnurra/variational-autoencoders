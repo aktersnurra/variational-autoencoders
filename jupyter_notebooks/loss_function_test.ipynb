{
 "cells": [
  {
   "cell_type": "code",
   "execution_count": null,
   "metadata": {},
   "outputs": [],
   "source": [
    "import tensorflow as tf"
   ]
  },
  {
   "cell_type": "code",
   "execution_count": null,
   "metadata": {},
   "outputs": [],
   "source": [
    "def tf_loss(x, y, logvar, mu, kl_tolerance, z_size):\n",
    "    r_loss = tf.reduce_sum(\n",
    "      tf.square(x - y),\n",
    "      reduction_indices = [1,2,3]\n",
    "    )\n",
    "    r_loss = tf.reduce_mean(r_loss)\n",
    "\n",
    "    # augmented kl loss per dim\n",
    "    kl_loss = - 0.5 * tf.reduce_sum(\n",
    "      (1 + logvar - tf.square(mu) - tf.exp(logvar)),\n",
    "      reduction_indices = 1\n",
    "    )\n",
    "    kl_loss = tf.maximum(kl_loss, kl_tolerance * z_size)\n",
    "    kl_loss = tf.reduce_mean(kl_loss)\n",
    "\n",
    "    loss = r_loss + kl_loss"
   ]
  },
  {
   "cell_type": "code",
   "execution_count": null,
   "metadata": {},
   "outputs": [],
   "source": [
    "kl_tolerance = 0.5\n",
    "z_size = 32"
   ]
  },
  {
   "cell_type": "code",
   "execution_count": null,
   "metadata": {},
   "outputs": [],
   "source": [
    "x = tf.random.normal([1, 1, 3, 5], dtype=tf.float32)\n",
    "y = tf.random.normal([1, 1, 3, 5], dtype=tf.float32)"
   ]
  },
  {
   "cell_type": "code",
   "execution_count": null,
   "metadata": {},
   "outputs": [],
   "source": [
    "def r_loss_tf(x, y):\n",
    "    return tf.reduce_mean(tf.reduce_sum(tf.square(x - y), reduction_indices = [1,2,3]))"
   ]
  },
  {
   "cell_type": "code",
   "execution_count": null,
   "metadata": {},
   "outputs": [],
   "source": [
    "def kld_tf(logvar, mu, kl_tolerance=0.5, z_size=32):\n",
    "    kl_loss = - 0.5 * tf.reduce_sum(\n",
    "      (1 + logvar - tf.square(mu) - tf.exp(logvar)),\n",
    "      reduction_indices = 1\n",
    "    )\n",
    "    kl_loss = tf.maximum(kl_loss, kl_tolerance * z_size)\n",
    "    kl_loss = tf.reduce_mean(kl_loss)\n",
    "    return kl_loss"
   ]
  },
  {
   "cell_type": "code",
   "execution_count": null,
   "metadata": {},
   "outputs": [],
   "source": [
    "tf.constant(2.0, shape=[1, 1, 2, 3], dtype=tf.float32)"
   ]
  },
  {
   "cell_type": "code",
   "execution_count": null,
   "metadata": {},
   "outputs": [],
   "source": [
    "tf.constant(1.0, shape=[1, 1, 2, 3])"
   ]
  },
  {
   "cell_type": "code",
   "execution_count": null,
   "metadata": {},
   "outputs": [],
   "source": [
    "# x = tf.random.normal([1, 1, 3, 5], dtype=tf.float32)\n",
    "# y = tf.random.normal([1, 1, 3, 5], dtype=tf.float32)\n",
    "x = tf.constant(1.0, shape=[2, 1, 2, 3], dtype=tf.float32)\n",
    "y = tf.constant(2.0, shape=[2, 1, 2, 3], dtype=tf.float32)\n",
    "with tf.Session() as sess:\n",
    "    x = sess.run(x)\n",
    "    y = sess.run(y)\n",
    "    print(sess.run(r_loss_tf(x,y)))"
   ]
  },
  {
   "cell_type": "code",
   "execution_count": null,
   "metadata": {},
   "outputs": [],
   "source": [
    "x = tf.constant(1.0, shape=[2, 32], dtype=tf.float32)\n",
    "y = tf.constant(2.0, shape=[2, 32], dtype=tf.float32)\n",
    "with tf.Session() as sess:\n",
    "    x = sess.run(x)\n",
    "    y = sess.run(y)\n",
    "    print(sess.run(kld_tf(x,y)))"
   ]
  },
  {
   "cell_type": "code",
   "execution_count": null,
   "metadata": {},
   "outputs": [],
   "source": [
    "import torch.nn.functional as F"
   ]
  },
  {
   "cell_type": "code",
   "execution_count": null,
   "metadata": {},
   "outputs": [],
   "source": [
    "def r_loss_pytorch(x, y):\n",
    "    return F.mse_loss(x, y, reduction='none')"
   ]
  },
  {
   "cell_type": "code",
   "execution_count": null,
   "metadata": {},
   "outputs": [],
   "source": [
    "def kld_loss_pytorch(logvar, mu):\n",
    "    kld_loss = -0.5 * torch.sum(1 + logvar - mu.pow(2) - logvar.exp(), dim=1)\n",
    "    print(kld_loss)\n",
    "    return torch.mean(kld_loss)"
   ]
  },
  {
   "cell_type": "code",
   "execution_count": null,
   "metadata": {},
   "outputs": [],
   "source": [
    "x = torch.ones(2,1,2,3)\n",
    "y = torch.ones(2,1,2,3) * 2"
   ]
  },
  {
   "cell_type": "code",
   "execution_count": null,
   "metadata": {},
   "outputs": [],
   "source": [
    "r_loss_pytorch(x, y)"
   ]
  },
  {
   "cell_type": "code",
   "execution_count": null,
   "metadata": {},
   "outputs": [],
   "source": [
    "x = torch.ones(2, 32)\n",
    "y = torch.ones(2, 32) * 2"
   ]
  },
  {
   "cell_type": "code",
   "execution_count": null,
   "metadata": {},
   "outputs": [],
   "source": [
    "kld_loss_pytorch(x, y)"
   ]
  },
  {
   "cell_type": "code",
   "execution_count": null,
   "metadata": {},
   "outputs": [],
   "source": [
    "import torch\n",
    "import torch.nn as nn\n",
    "from utils import initialize_weights\n",
    "from utils.gelu import GELU\n",
    "\n",
    "\n",
    "class InferenceNetwork(nn.Module):\n",
    "    def __init__(self, params):\n",
    "        super(InferenceNetwork, self).__init__()\n",
    "        self.params = params\n",
    "        self.fc = nn.Linear(in_features=self.params.input_dim, out_features=self.params.hidden_dim)\n",
    "        self.fc_mu = nn.Linear(in_features=self.params.hidden_dim, out_features=self.params.latent_dim)\n",
    "        self.fc_logvar = nn.Linear(in_features=self.params.hidden_dim, out_features=self.params.latent_dim)\n",
    "        self.activation_fn = GELU()\n",
    "        initialize_weights(self)\n",
    "\n",
    "    def forward(self, x):\n",
    "        x = x.view(-1, self.params.input_dim)\n",
    "        h1 = self.activation_fn(self.fc(x))\n",
    "        mu = self.activation_fn(self.fc_mu(h1))\n",
    "        logvar = self.activation_fn(self.fc_logvar(h1))\n",
    "        return mu, logvar\n",
    "\n",
    "\n",
    "class GenerativeNetwork(nn.Module):\n",
    "    def __init__(self, params):\n",
    "        super(GenerativeNetwork, self).__init__()\n",
    "        self.params = params\n",
    "        self.fc1 = nn.Linear(in_features=self.params.latent_dim, out_features=self.params.hidden_dim)\n",
    "        self.fc2 = nn.Linear(in_features=self.params.hidden_dim, out_features=self.params.input_dim)\n",
    "        self.activation_fn = GELU()\n",
    "        initialize_weights(self)\n",
    "\n",
    "    def forward(self, z):\n",
    "        h3 = self.activation_fn(self.fc1(z))\n",
    "        out = torch.sigmoid(self.fc2(h3))\n",
    "        return out\n",
    "\n",
    "\n",
    "class VariationalAutoencoder(nn.Module):\n",
    "    def __init__(self, params):\n",
    "        super(VariationalAutoencoder, self).__init__()\n",
    "        self.params = params\n",
    "        self.inference_network = InferenceNetwork(params=params)\n",
    "        self.generative_network = GenerativeNetwork(params=params)\n",
    "\n",
    "    def sample(self, eps=None):\n",
    "        if eps is None:\n",
    "            eps = torch.randn(torch.Size([1, self.params.hidden_dim]))\n",
    "        return self.decode(eps).view(self.params.num_examples_to_generate, 1, 28, 28)\n",
    "\n",
    "    @staticmethod\n",
    "    def reparameterization(mu, logvar):\n",
    "        std = torch.exp(0.5 * logvar)\n",
    "        eps = torch.randn_like(std)\n",
    "        z = mu + eps * std\n",
    "        return z\n",
    "\n",
    "    def encode(self, x):\n",
    "        mu, logvar = self.inference_network(x)\n",
    "        return mu, logvar\n",
    "\n",
    "    def decode(self, z):\n",
    "        return self.generative_network(z)\n",
    "\n",
    "    def forward(self, x):\n",
    "        mu, logvar = self.encode(x)\n",
    "        z = self.reparameterization(mu, logvar)\n",
    "        x_reconstructed = self.decode(z)\n",
    "        return x_reconstructed, mu, logvar, z"
   ]
  },
  {
   "cell_type": "code",
   "execution_count": null,
   "metadata": {},
   "outputs": [],
   "source": [
    "json_path = '/home/aktersnurra/Documents/Projects/variational-autoencoders/experiments/vae/params.json'"
   ]
  },
  {
   "cell_type": "code",
   "execution_count": null,
   "metadata": {},
   "outputs": [],
   "source": [
    "from utils.misc import create_dir, create_log_dir, load_checkpoint, save_checkpoint, tab_printer, Params, set_logger"
   ]
  },
  {
   "cell_type": "code",
   "execution_count": null,
   "metadata": {},
   "outputs": [],
   "source": [
    "params = Params(json_path)"
   ]
  },
  {
   "cell_type": "code",
   "execution_count": null,
   "metadata": {},
   "outputs": [],
   "source": [
    "vae = VariationalAutoencoder(params)"
   ]
  },
  {
   "cell_type": "code",
   "execution_count": null,
   "metadata": {},
   "outputs": [],
   "source": [
    "img = torch.randn(2, 1, 28, 28)"
   ]
  },
  {
   "cell_type": "code",
   "execution_count": null,
   "metadata": {},
   "outputs": [],
   "source": [
    "X_reconstructed, mu, logvar, z = vae(img)"
   ]
  },
  {
   "cell_type": "code",
   "execution_count": null,
   "metadata": {},
   "outputs": [],
   "source": [
    "logvar.shape"
   ]
  },
  {
   "cell_type": "code",
   "execution_count": null,
   "metadata": {},
   "outputs": [],
   "source": []
  }
 ],
 "metadata": {
  "kernelspec": {
   "display_name": "Python 3",
   "language": "python",
   "name": "python3"
  },
  "language_info": {
   "codemirror_mode": {
    "name": "ipython",
    "version": 3
   },
   "file_extension": ".py",
   "mimetype": "text/x-python",
   "name": "python",
   "nbconvert_exporter": "python",
   "pygments_lexer": "ipython3",
   "version": "3.7.3"
  }
 },
 "nbformat": 4,
 "nbformat_minor": 4
}
